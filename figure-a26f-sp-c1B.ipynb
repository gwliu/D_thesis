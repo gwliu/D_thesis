{
 "cells": [
  {
   "cell_type": "code",
   "execution_count": 1,
   "metadata": {},
   "outputs": [],
   "source": [
    "import numpy as np\n",
    "import csv\n",
    "import os\n",
    "import matplotlib.pyplot as plt\n",
    "from skimage import io\n",
    "from scipy import misc\n",
    "from skimage.transform import rescale, resize, downscale_local_mean\n",
    "import  scipy\n",
    "import  scipy.cluster.hierarchy as sch\n",
    "from scipy.cluster.hierarchy import dendrogram\n",
    "from os import listdir\n",
    "from os.path import isdir,isfile,join\n",
    "import matplotlib\n",
    "\n",
    "from scipy import sparse\n",
    "from scipy.sparse.linalg import spsolve\n",
    "from scipy.signal import find_peaks"
   ]
  },
  {
   "cell_type": "code",
   "execution_count": 2,
   "metadata": {},
   "outputs": [],
   "source": [
    "#return baseline. Method \"Asymmetric Least Squares Smoothing\" by P. Eilers and H. Boelens in 2005\n",
    "def baseline_als(y, lam, p, niter=10):\n",
    "    L = len(y)\n",
    "    D = sparse.diags([1,-2,1],[0,-1,-2], shape=(L,L-2))\n",
    "    w = np.ones(L)\n",
    "    for i in range(niter):\n",
    "        W = sparse.spdiags(w, 0, L, L)\n",
    "        Z = W + lam * D.dot(D.transpose())\n",
    "        z = spsolve(Z, w*y)\n",
    "        w = p * (y > z) + (1-p) * (y < z)\n",
    "    return(z)\n",
    "#return an array divided by the maximum elements in the given array\n",
    "def normalized(y, max_y = 1):\n",
    "    z = y/np.amax(y)\n",
    "    return(z)"
   ]
  },
  {
   "cell_type": "code",
   "execution_count": 283,
   "metadata": {},
   "outputs": [],
   "source": [
    "np.linspace?"
   ]
  },
  {
   "cell_type": "code",
   "execution_count": 343,
   "metadata": {},
   "outputs": [],
   "source": [
    "def get_seqs(segments_normed,rs,flag=[1,1,1]):\n",
    "    seqs = []\n",
    "    for r in rs:\n",
    "        seg = segments_normed[:,(r[0]-r[1]+r[0]):r[1]]\n",
    "        seq_y = np.concatenate([(seg[-4:-9:-2,:]+seg[-5:-10:-2,:])/2,(seg[7::-1]+seg[15:7:-1])/2])\n",
    "        seq_x = np.linspace(0,100,(r[1]-r[0])*2)\n",
    "        seqs.append([seq_x,seq_y,flag])\n",
    "    return(seqs)"
   ]
  },
  {
   "cell_type": "code",
   "execution_count": 349,
   "metadata": {},
   "outputs": [],
   "source": [
    "def fw_plot(seqs):\n",
    "    color = ['r','m','g','b','k']\n",
    "    plt.figure(1,figsize=(20,10))\n",
    "    plt.subplot(2,1,1)\n",
    "    for seq in seqs:\n",
    "        for i in range(3):\n",
    "            flag = seq[2]\n",
    "            if flag[i]!=0:\n",
    "                print(flag[i])\n",
    "                plt.plot(seq[0],seq[1][i],color = color[i])\n",
    "    plt.ylabel('Fluo_cali')\n",
    "    plt.legend(loc='best')\n",
    "    plt.subplot(2,1,2)\n",
    "    for seq in seqs:\n",
    "        for i in range(4):\n",
    "            plt.plot(seq[0],seq[1][3+i*2],color = color[i])\n",
    "    plt.xlabel('frame')\n",
    "    plt.ylabel('Fluo')\n",
    "    plt.legend(loc='best')\n",
    "    plt.show()"
   ]
  },
  {
   "cell_type": "code",
   "execution_count": 325,
   "metadata": {},
   "outputs": [],
   "source": [
    "def heatmapplot(segments_normed,i,e):\n",
    "    plt.figure(1,figsize=(20,10))\n",
    "    plt.subplot(3,1,1)\n",
    "    for i in range(3):\n",
    "        plt.plot(segments_normed[-4-i*2,:]+segments_normed[-5-i*2,:])\n",
    "    #plt.imshow(np.concatenate([segments_normed[-4:-9:-2,:]+segments_normed[-5:-10:-2,:],segments_normed[-1:-4:-1,:]]), aspect='auto')\n",
    "    plt.xlim(i,e)\n",
    "    plt.ylabel('Fluo_cali')\n",
    "    plt.legend(loc='best')\n",
    "    plt.subplot(3,1,2)\n",
    "    for i in range(8):\n",
    "        plt.plot(segments_normed[i]+segments_normed[i+8])\n",
    "    #   plt.imshow(segments_normed[7::-1]+segments_normed[15:7:-1],aspect='auto')\n",
    "    plt.xlim(i,e)\n",
    "    plt.subplot(3,1,3)\n",
    "    plt.imshow(segments_normed[7::-1]+segments_normed[15:7:-1],aspect='auto')\n",
    "    plt.xlabel('frame')\n",
    "    plt.ylabel('Fluo')\n",
    "    plt.legend(loc='best')\n",
    "    plt.show()"
   ]
  },
  {
   "cell_type": "markdown",
   "metadata": {},
   "source": [
    "### 0721/4"
   ]
  },
  {
   "cell_type": "code",
   "execution_count": 344,
   "metadata": {
    "scrolled": true
   },
   "outputs": [
    {
     "name": "stdout",
     "output_type": "stream",
     "text": [
      "/media/yingtao/08948FA2948F90BC/2021-imaging/a26fspc1b/20210721/a26fspc1b/4/liu_dual8_20210721_160220\n"
     ]
    }
   ],
   "source": [
    "cd /media/yingtao/08948FA2948F90BC/2021-imaging/a26fspc1b/20210721/a26fspc1b/4/liu_dual8_20210721_160220/"
   ]
  },
  {
   "cell_type": "code",
   "execution_count": 345,
   "metadata": {},
   "outputs": [],
   "source": [
    "segments= []\n",
    "with open(\"Results.csv\") as file:\n",
    "    lines = csv.reader(file)\n",
    "    for i in lines:\n",
    "        segments.append(i[1:])\n",
    "segments = segments[1:]\n",
    "segments = np.array(segments).astype(float)\n",
    "\n",
    "segn = segments.shape[1]\n",
    "\n",
    "segments_normed = np.empty([segn,segments.shape[0]])\n",
    "for i in range(segn): \n",
    "    baseline = baseline_als(segments[:,i], 10e6, 0.001)\n",
    "    segments_normed[i] = normalized((segments[:,i]-baseline) / baseline)"
   ]
  },
  {
   "cell_type": "code",
   "execution_count": 346,
   "metadata": {},
   "outputs": [],
   "source": [
    "rs = [[2750,2800],[3728,3786]]"
   ]
  },
  {
   "cell_type": "code",
   "execution_count": 347,
   "metadata": {},
   "outputs": [
    {
     "data": {
      "text/plain": [
       "(25, 3984)"
      ]
     },
     "execution_count": 347,
     "metadata": {},
     "output_type": "execute_result"
    }
   ],
   "source": [
    "segments_normed.shape"
   ]
  },
  {
   "cell_type": "code",
   "execution_count": 348,
   "metadata": {},
   "outputs": [],
   "source": [
    "seqs=get_seqs(segments_normed,rs)"
   ]
  },
  {
   "cell_type": "code",
   "execution_count": 138,
   "metadata": {},
   "outputs": [],
   "source": [
    "%matplotlib Qt"
   ]
  },
  {
   "cell_type": "code",
   "execution_count": 350,
   "metadata": {},
   "outputs": [
    {
     "name": "stderr",
     "output_type": "stream",
     "text": [
      "No handles with labels found to put in legend.\n",
      "No handles with labels found to put in legend.\n"
     ]
    },
    {
     "name": "stdout",
     "output_type": "stream",
     "text": [
      "1\n",
      "1\n",
      "1\n",
      "1\n",
      "1\n",
      "1\n"
     ]
    }
   ],
   "source": [
    "fw_plot(seqs)"
   ]
  },
  {
   "cell_type": "code",
   "execution_count": 229,
   "metadata": {},
   "outputs": [
    {
     "name": "stderr",
     "output_type": "stream",
     "text": [
      "No handles with labels found to put in legend.\n",
      "No handles with labels found to put in legend.\n"
     ]
    }
   ],
   "source": [
    "heatmapplot(segments_normed,3200,4200)"
   ]
  },
  {
   "cell_type": "markdown",
   "metadata": {},
   "source": [
    "### 0721/3"
   ]
  },
  {
   "cell_type": "code",
   "execution_count": 351,
   "metadata": {
    "scrolled": true
   },
   "outputs": [
    {
     "name": "stdout",
     "output_type": "stream",
     "text": [
      "/media/yingtao/08948FA2948F90BC/2021-imaging/a26fspc1b/20210721/a26fspc1b/3/liu_dual6_20210721_155802\n"
     ]
    }
   ],
   "source": [
    "cd /media/yingtao/08948FA2948F90BC/2021-imaging/a26fspc1b/20210721/a26fspc1b/3/liu_dual6_20210721_155802/"
   ]
  },
  {
   "cell_type": "code",
   "execution_count": 352,
   "metadata": {},
   "outputs": [],
   "source": [
    "segments= []\n",
    "with open(\"Results.csv\") as file:\n",
    "    lines = csv.reader(file)\n",
    "    for i in lines:\n",
    "        segments.append(i[1:])\n",
    "segments = segments[1:]\n",
    "segments = np.array(segments).astype(float)\n",
    "\n",
    "segn = segments.shape[1]\n",
    "\n",
    "segments_normed = np.empty([segn,segments.shape[0]])\n",
    "for i in range(segn): \n",
    "    baseline = baseline_als(segments[:,i], 10e6, 0.001)\n",
    "    segments_normed[i] = normalized((segments[:,i]-baseline) / baseline)"
   ]
  },
  {
   "cell_type": "code",
   "execution_count": 353,
   "metadata": {},
   "outputs": [],
   "source": [
    "rs = [[435,463],[932,968],[1366,1404],[1527,1565],[2151,2197]]"
   ]
  },
  {
   "cell_type": "code",
   "execution_count": 208,
   "metadata": {},
   "outputs": [],
   "source": [
    "%matplotlib Qt"
   ]
  },
  {
   "cell_type": "code",
   "execution_count": 354,
   "metadata": {},
   "outputs": [],
   "source": [
    "seqs_=get_seqs(segments_normed,rs)"
   ]
  },
  {
   "cell_type": "code",
   "execution_count": 355,
   "metadata": {},
   "outputs": [
    {
     "name": "stderr",
     "output_type": "stream",
     "text": [
      "No handles with labels found to put in legend.\n"
     ]
    },
    {
     "name": "stdout",
     "output_type": "stream",
     "text": [
      "1\n",
      "1\n",
      "1\n",
      "1\n",
      "1\n",
      "1\n",
      "1\n",
      "1\n",
      "1\n",
      "1\n",
      "1\n",
      "1\n",
      "1\n",
      "1\n",
      "1\n",
      "1\n",
      "1\n",
      "1\n",
      "1\n",
      "1\n",
      "1\n"
     ]
    },
    {
     "name": "stderr",
     "output_type": "stream",
     "text": [
      "No handles with labels found to put in legend.\n"
     ]
    }
   ],
   "source": [
    "fw_plot(np.concatenate([seqs,seqs_]))"
   ]
  },
  {
   "cell_type": "code",
   "execution_count": 356,
   "metadata": {},
   "outputs": [],
   "source": [
    "seqs_all = np.concatenate([seqs,seqs_])"
   ]
  },
  {
   "cell_type": "code",
   "execution_count": 357,
   "metadata": {},
   "outputs": [
    {
     "name": "stderr",
     "output_type": "stream",
     "text": [
      "No handles with labels found to put in legend.\n",
      "No handles with labels found to put in legend.\n"
     ]
    }
   ],
   "source": [
    "heatmapplot(segments_normed,0,3984)"
   ]
  },
  {
   "cell_type": "markdown",
   "metadata": {},
   "source": [
    "### 0721/2"
   ]
  },
  {
   "cell_type": "code",
   "execution_count": 358,
   "metadata": {},
   "outputs": [
    {
     "name": "stdout",
     "output_type": "stream",
     "text": [
      "/media/yingtao/08948FA2948F90BC/2021-imaging/a26fspc1b/20210721/a26fspc1b/2/liu_dual4_20210721_155240\n"
     ]
    }
   ],
   "source": [
    "cd /media/yingtao/08948FA2948F90BC/2021-imaging/a26fspc1b/20210721/a26fspc1b/2/liu_dual4_20210721_155240/"
   ]
  },
  {
   "cell_type": "code",
   "execution_count": 359,
   "metadata": {},
   "outputs": [],
   "source": [
    "segments= []\n",
    "with open(\"Results.csv\") as file:\n",
    "    lines = csv.reader(file)\n",
    "    for i in lines:\n",
    "        segments.append(i[1:])\n",
    "segments = segments[1:]\n",
    "segments = np.array(segments).astype(float)\n",
    "\n",
    "segn = segments.shape[1]\n",
    "\n",
    "segments_normed = np.empty([segn,segments.shape[0]])\n",
    "for i in range(segn): \n",
    "    baseline = baseline_als(segments[:,i], 10e6, 0.001)\n",
    "    segments_normed[i] = normalized((segments[:,i]-baseline) / baseline)"
   ]
  },
  {
   "cell_type": "code",
   "execution_count": 360,
   "metadata": {},
   "outputs": [
    {
     "data": {
      "text/plain": [
       "(3984, 25)"
      ]
     },
     "execution_count": 360,
     "metadata": {},
     "output_type": "execute_result"
    }
   ],
   "source": [
    "segments.shape"
   ]
  },
  {
   "cell_type": "code",
   "execution_count": 361,
   "metadata": {},
   "outputs": [],
   "source": [
    "%matplotlib Qt"
   ]
  },
  {
   "cell_type": "code",
   "execution_count": 362,
   "metadata": {},
   "outputs": [
    {
     "name": "stderr",
     "output_type": "stream",
     "text": [
      "No handles with labels found to put in legend.\n",
      "No handles with labels found to put in legend.\n"
     ]
    }
   ],
   "source": [
    "heatmapplot(segments_normed,0,2500)"
   ]
  },
  {
   "cell_type": "code",
   "execution_count": 363,
   "metadata": {
    "scrolled": false
   },
   "outputs": [],
   "source": [
    "rs = [[165,196],[291,328],[429,468],[564,605]]"
   ]
  },
  {
   "cell_type": "code",
   "execution_count": 364,
   "metadata": {},
   "outputs": [],
   "source": [
    "seqs_=get_seqs(segments_normed,rs,[1,1,0])"
   ]
  },
  {
   "cell_type": "code",
   "execution_count": 366,
   "metadata": {
    "scrolled": false
   },
   "outputs": [
    {
     "name": "stderr",
     "output_type": "stream",
     "text": [
      "No handles with labels found to put in legend.\n",
      "No handles with labels found to put in legend.\n"
     ]
    },
    {
     "name": "stdout",
     "output_type": "stream",
     "text": [
      "1\n",
      "1\n",
      "1\n",
      "1\n",
      "1\n",
      "1\n",
      "1\n",
      "1\n"
     ]
    }
   ],
   "source": [
    "fw_plot(seqs_)"
   ]
  },
  {
   "cell_type": "code",
   "execution_count": 367,
   "metadata": {},
   "outputs": [],
   "source": [
    "seqs_all = np.concatenate([seqs_all,seqs_])"
   ]
  },
  {
   "cell_type": "markdown",
   "metadata": {},
   "source": [
    "### 0721/1"
   ]
  },
  {
   "cell_type": "code",
   "execution_count": 368,
   "metadata": {},
   "outputs": [
    {
     "name": "stdout",
     "output_type": "stream",
     "text": [
      "/media/yingtao/08948FA2948F90BC/2021-imaging/a26fspc1b/20210721/a26fspc1b/1\n"
     ]
    }
   ],
   "source": [
    "cd /media/yingtao/08948FA2948F90BC/2021-imaging/a26fspc1b/20210721/a26fspc1b/1/"
   ]
  },
  {
   "cell_type": "code",
   "execution_count": 369,
   "metadata": {},
   "outputs": [],
   "source": [
    "segments= []\n",
    "with open(\"Results.csv\") as file:\n",
    "    lines = csv.reader(file)\n",
    "    for i in lines:\n",
    "        segments.append(i[1:])\n",
    "segments = segments[1:]\n",
    "segments = np.array(segments).astype(float)\n",
    "\n",
    "segn = segments.shape[1]\n",
    "\n",
    "segments_normed = np.empty([segn,segments.shape[0]])\n",
    "for i in range(segn): \n",
    "    baseline = baseline_als(segments[:,i], 10e6, 0.001)\n",
    "    segments_normed[i] = normalized((segments[:,i]-baseline) / baseline)"
   ]
  },
  {
   "cell_type": "code",
   "execution_count": 370,
   "metadata": {},
   "outputs": [
    {
     "data": {
      "text/plain": [
       "(3976, 25)"
      ]
     },
     "execution_count": 370,
     "metadata": {},
     "output_type": "execute_result"
    }
   ],
   "source": [
    "segments.shape"
   ]
  },
  {
   "cell_type": "code",
   "execution_count": 24,
   "metadata": {},
   "outputs": [],
   "source": [
    "%matplotlib Qt"
   ]
  },
  {
   "cell_type": "code",
   "execution_count": 371,
   "metadata": {},
   "outputs": [
    {
     "name": "stderr",
     "output_type": "stream",
     "text": [
      "No handles with labels found to put in legend.\n",
      "No handles with labels found to put in legend.\n"
     ]
    }
   ],
   "source": [
    "heatmapplot(segments_normed,0,2500)"
   ]
  },
  {
   "cell_type": "code",
   "execution_count": 54,
   "metadata": {},
   "outputs": [],
   "source": [
    "segments= []\n",
    "with open(\"Results2.csv\") as file:\n",
    "    lines = csv.reader(file)\n",
    "    for i in lines:\n",
    "        segments.append(i[1:])\n",
    "segments = segments[1:]\n",
    "segments = np.array(segments).astype(float)\n",
    "\n",
    "segn = segments.shape[1]\n",
    "\n",
    "segments_normed = np.empty([segn,segments.shape[0]])\n",
    "for i in range(segn): \n",
    "    baseline = baseline_als(segments[:,i], 10e6, 0.001)\n",
    "    segments_normed[i] = normalized((segments[:,i]-baseline) / baseline)"
   ]
  },
  {
   "cell_type": "code",
   "execution_count": 372,
   "metadata": {},
   "outputs": [],
   "source": [
    "rs = [[241,263],[314,333],[455,474],[580,599],[653,672]]"
   ]
  },
  {
   "cell_type": "code",
   "execution_count": 376,
   "metadata": {},
   "outputs": [],
   "source": [
    "seqs_=get_seqs(segments_normed,rs)"
   ]
  },
  {
   "cell_type": "code",
   "execution_count": 379,
   "metadata": {
    "scrolled": false
   },
   "outputs": [
    {
     "name": "stderr",
     "output_type": "stream",
     "text": [
      "No handles with labels found to put in legend.\n"
     ]
    },
    {
     "name": "stdout",
     "output_type": "stream",
     "text": [
      "1\n",
      "1\n",
      "1\n",
      "1\n",
      "1\n",
      "1\n",
      "1\n",
      "1\n",
      "1\n",
      "1\n",
      "1\n",
      "1\n",
      "1\n",
      "1\n",
      "1\n",
      "1\n",
      "1\n",
      "1\n",
      "1\n",
      "1\n",
      "1\n",
      "1\n",
      "1\n",
      "1\n",
      "1\n",
      "1\n",
      "1\n",
      "1\n",
      "1\n",
      "1\n",
      "1\n",
      "1\n",
      "1\n",
      "1\n",
      "1\n",
      "1\n",
      "1\n",
      "1\n",
      "1\n",
      "1\n",
      "1\n",
      "1\n",
      "1\n",
      "1\n"
     ]
    },
    {
     "name": "stderr",
     "output_type": "stream",
     "text": [
      "No handles with labels found to put in legend.\n"
     ]
    }
   ],
   "source": [
    "fw_plot(seqs_all)"
   ]
  },
  {
   "cell_type": "code",
   "execution_count": 378,
   "metadata": {},
   "outputs": [],
   "source": [
    "seqs_all = np.concatenate([seqs_all,seqs_])"
   ]
  },
  {
   "cell_type": "code",
   "execution_count": 123,
   "metadata": {
    "scrolled": true
   },
   "outputs": [
    {
     "data": {
      "text/plain": [
       "(2959, 23)"
      ]
     },
     "execution_count": 123,
     "metadata": {},
     "output_type": "execute_result"
    }
   ],
   "source": [
    "segments.shape"
   ]
  },
  {
   "cell_type": "code",
   "execution_count": 124,
   "metadata": {},
   "outputs": [],
   "source": [
    "%matplotlib Qt"
   ]
  },
  {
   "cell_type": "code",
   "execution_count": 55,
   "metadata": {},
   "outputs": [
    {
     "name": "stderr",
     "output_type": "stream",
     "text": [
      "No handles with labels found to put in legend.\n"
     ]
    }
   ],
   "source": [
    "slice_i = 0\n",
    "slice_e = 4000\n",
    "plt.figure(1,figsize=(20,10))\n",
    "plt.subplot(3,1,1)\n",
    "#for i in range(6):\n",
    "#    plt.plot(segments_normed[-i-1,:], label='a26f_post')\n",
    "plt.imshow(segments_normed[-6:,:], aspect='auto')\n",
    "plt.xlim(slice_i,slice_e)\n",
    "#plt.xlabel('frame')\n",
    "plt.ylabel('Fluo_cali')\n",
    "plt.legend(loc='best')\n",
    "plt.subplot(3,1,2)\n",
    "#for i in range((segments_normed.shape[0]-6)//2):\n",
    "#    plt.plot(segments_normed[i]+segments_normed[i+8], label='nsyb_neurites_a'+str(8-i))\n",
    "plt.imshow(segments_normed[0:8]+segments_normed[8:16],aspect='auto')\n",
    "plt.xlim(slice_i,slice_e)\n",
    "plt.subplot(3,1,3)\n",
    "for i in range((segments_normed.shape[0]-7)//2):\n",
    "    plt.plot(np.abs(segments_normed[i]-segments_normed[i+8]), label='nsyb'+'_neurites'+str(8-i))\n",
    "plt.xlim(slice_i,slice_e)\n",
    "plt.xlabel('frame')\n",
    "plt.ylabel('Fluo')\n",
    "plt.legend(loc='best')\n",
    "plt.show()"
   ]
  },
  {
   "cell_type": "code",
   "execution_count": 63,
   "metadata": {
    "scrolled": false
   },
   "outputs": [
    {
     "data": {
      "text/plain": [
       "(23, 3984)"
      ]
     },
     "execution_count": 63,
     "metadata": {},
     "output_type": "execute_result"
    }
   ],
   "source": [
    "segments_normed.shape"
   ]
  }
 ],
 "metadata": {
  "kernelspec": {
   "display_name": "Python 3",
   "language": "python",
   "name": "python3"
  },
  "language_info": {
   "codemirror_mode": {
    "name": "ipython",
    "version": 3
   },
   "file_extension": ".py",
   "mimetype": "text/x-python",
   "name": "python",
   "nbconvert_exporter": "python",
   "pygments_lexer": "ipython3",
   "version": "3.7.1"
  }
 },
 "nbformat": 4,
 "nbformat_minor": 4
}
