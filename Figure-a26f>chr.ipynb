{
 "cells": [
  {
   "cell_type": "code",
   "execution_count": 27,
   "metadata": {},
   "outputs": [],
   "source": [
    "import pandas as pd\n",
    "import os\n",
    "import numpy as np\n",
    "import matplotlib.pyplot as plt\n",
    "from scipy.spatial.distance import euclidean"
   ]
  },
  {
   "cell_type": "code",
   "execution_count": 48,
   "metadata": {},
   "outputs": [],
   "source": [
    "import csv"
   ]
  },
  {
   "cell_type": "code",
   "execution_count": 28,
   "metadata": {},
   "outputs": [
    {
     "data": {
      "text/plain": [
       "['.~lock.Results-yw-1-0801-1-2000.csv#',\n",
       " 'opto-1-liu63-600.csv',\n",
       " 'opto-2-liu73-550.csv',\n",
       " 'opto-3-liu85-00001-850-3980-600.csv',\n",
       " 'opto-5-liu97-0000-2700-3984-0001-1-1000-700.csv',\n",
       " 'opto-yw-1-0801-1-2000-500.csv',\n",
       " 'opto-yw-2-0730-liu67-0000-1-3500-600.csv',\n",
       " 'opto-yw-3-0804-1-liu106-1-3235-500.csv',\n",
       " 'opto-yw-4-0804-2-liu107-1-3161-600.csv',\n",
       " 'Results-1-liu63.csv',\n",
       " 'Results-2-liu73.csv',\n",
       " 'Results-3-liu85-00001-850-3980.csv',\n",
       " 'Results-5-liu97-0000-2700-3984-0001-1-1000.csv',\n",
       " 'Results-yw-1-0801-1-2000.csv',\n",
       " 'Results-yw-2-0730-liu67-0000-1-3500.csv',\n",
       " 'Results-yw-3-0804-1-liu106.csv',\n",
       " 'Results-yw-4-0804-2-liu107.csv']"
      ]
     },
     "execution_count": 28,
     "metadata": {},
     "output_type": "execute_result"
    }
   ],
   "source": [
    "os.listdir('/media/yingtao/HDPH-UT/2pin/click_results-a26f-chr/')"
   ]
  },
  {
   "cell_type": "code",
   "execution_count": 29,
   "metadata": {},
   "outputs": [],
   "source": [
    "folder_path = '/media/yingtao/HDPH-UT/2pin/click_results-a26f-chr/'"
   ]
  },
  {
   "cell_type": "code",
   "execution_count": 30,
   "metadata": {},
   "outputs": [],
   "source": [
    "paths = [file for file in os.listdir(folder_path)]\n",
    "paths.sort()"
   ]
  },
  {
   "cell_type": "code",
   "execution_count": 36,
   "metadata": {},
   "outputs": [],
   "source": [
    "paths = [ 'Results-1-liu63.csv',\n",
    " 'Results-2-liu73.csv',\n",
    " 'Results-3-liu85-00001-850-3980.csv',\n",
    " 'Results-5-liu97-0000-2700-3984-0001-1-1000.csv',\n",
    " 'Results-yw-1-0801-1-2000.csv',\n",
    " 'Results-yw-2-0730-liu67-0000-1-3500.csv',\n",
    " 'Results-yw-3-0804-1-liu106.csv',\n",
    " 'Results-yw-4-0804-2-liu107.csv']"
   ]
  },
  {
   "cell_type": "code",
   "execution_count": 37,
   "metadata": {},
   "outputs": [],
   "source": [
    "df = pd.read_csv(os.path.join(folder_path,paths[0]))"
   ]
  },
  {
   "cell_type": "code",
   "execution_count": 38,
   "metadata": {},
   "outputs": [],
   "source": [
    "def cal_LT_length(df):\n",
    "    x = df['X'].to_numpy()\n",
    "    y = df['Y'].to_numpy()\n",
    "    t = df['t'].to_numpy()\n",
    "    if x.shape[0]%2!=0:\n",
    "        print('wrong shape')\n",
    "    d_all = []\n",
    "    for i in range(x.shape[0]//2):\n",
    "        x1,y1,t1 = x[2*i],y[i*2],t[i*2]\n",
    "        x2,y2,t2 = x[2*i+1],y[i*2+1],t[i*2+1]\n",
    "        if t1!=t2:\n",
    "            print('wrong click')\n",
    "        d = euclidean([x1,y1],[x2,y2])\n",
    "        d_all.append([d,t1])\n",
    "    return(np.array(d_all))"
   ]
  },
  {
   "cell_type": "code",
   "execution_count": 39,
   "metadata": {},
   "outputs": [],
   "source": [
    "def get_lt_length(path):\n",
    "    df = pd.read_csv(path)\n",
    "    d = cal_LT_length(df)\n",
    "    return(d)"
   ]
  },
  {
   "cell_type": "code",
   "execution_count": 40,
   "metadata": {},
   "outputs": [
    {
     "data": {
      "text/plain": [
       "array([17.02938637, 75.        ])"
      ]
     },
     "execution_count": 40,
     "metadata": {},
     "output_type": "execute_result"
    }
   ],
   "source": [
    "d[:][1]"
   ]
  },
  {
   "cell_type": "code",
   "execution_count": 59,
   "metadata": {},
   "outputs": [
    {
     "data": {
      "text/plain": [
       "([113, 519, 917, 1315, 1714, 2112, 2510, 2908],\n",
       " [312, 718, 1116, 1514, 1912, 2311, 2709, 3107])"
      ]
     },
     "execution_count": 59,
     "metadata": {},
     "output_type": "execute_result"
    }
   ],
   "source": [
    "optos[7]"
   ]
  },
  {
   "cell_type": "code",
   "execution_count": 57,
   "metadata": {},
   "outputs": [
    {
     "data": {
      "text/plain": [
       "range(0, 8)"
      ]
     },
     "execution_count": 57,
     "metadata": {},
     "output_type": "execute_result"
    }
   ],
   "source": [
    "range(len(opto_files_paths))"
   ]
  },
  {
   "cell_type": "code",
   "execution_count": 67,
   "metadata": {},
   "outputs": [
    {
     "name": "stdout",
     "output_type": "stream",
     "text": [
      "0 0\n",
      "0 1\n",
      "0 2\n",
      "0 3\n",
      "0 4\n",
      "0 5\n",
      "0 6\n",
      "1 0\n",
      "1 1\n",
      "1 2\n",
      "1 3\n",
      "1 4\n",
      "1 5\n",
      "1 6\n",
      "1 7\n",
      "2 0\n",
      "2 1\n",
      "2 2\n",
      "2 3\n",
      "2 4\n",
      "2 5\n",
      "2 6\n",
      "2 7\n",
      "3 0\n",
      "3 1\n",
      "3 2\n",
      "3 3\n",
      "3 4\n",
      "3 5\n",
      "4 0\n",
      "4 1\n",
      "4 2\n",
      "4 3\n",
      "4 4\n",
      "5 0\n",
      "5 1\n",
      "5 2\n",
      "5 3\n",
      "5 4\n",
      "5 5\n",
      "5 6\n",
      "5 7\n",
      "5 8\n",
      "6 0\n",
      "6 1\n",
      "6 2\n",
      "6 3\n",
      "6 4\n",
      "6 5\n",
      "6 6\n",
      "6 7\n",
      "6 8\n",
      "7 0\n",
      "7 1\n",
      "7 2\n",
      "7 3\n",
      "7 4\n",
      "7 5\n",
      "7 6\n",
      "7 7\n"
     ]
    },
    {
     "data": {
      "image/png": "[encoded data removed]",
      "text/plain": [
       "<Figure size 360x1440 with 8 Axes>"
      ]
     },
     "metadata": {
      "needs_background": "light"
     },
     "output_type": "display_data"
    }
   ],
   "source": [
    "d_all = []\n",
    "fig, axs = plt.subplots(len(paths),figsize = (5,20))\n",
    "for num,path in enumerate(paths):\n",
    "    d = get_lt_length(os.path.join(folder_path,path))\n",
    "    d_all.append(d)\n",
    "    axs[num].scatter(d[:,1],d[:,0]/np.amin(d[:,0]))\n",
    "for num in range(len(opto_files_paths)):\n",
    "    for n2 in range(len(optos[num][0])):\n",
    "        print(num,n2)\n",
    "        axs[num].axvspan(optos[num][0][n2], optos[num][1][n2], alpha=0.3, color='cyan')"
   ]
  },
  {
   "cell_type": "code",
   "execution_count": 46,
   "metadata": {},
   "outputs": [],
   "source": [
    "opto_files_paths = ['opto-1-liu63-600.csv',\n",
    " 'opto-2-liu73-550.csv',\n",
    " 'opto-3-liu85-00001-850-3980-600.csv',\n",
    " 'opto-5-liu97-0000-2700-3984-0001-1-1000-700.csv',\n",
    " 'opto-yw-1-0801-1-2000-500.csv',\n",
    " 'opto-yw-2-0730-liu67-0000-1-3500-600.csv',\n",
    " 'opto-yw-3-0804-1-liu106-1-3235-500.csv',\n",
    " 'opto-yw-4-0804-2-liu107-1-3161-600.csv']"
   ]
  },
  {
   "cell_type": "code",
   "execution_count": 44,
   "metadata": {},
   "outputs": [],
   "source": [
    "def find_boundarys(arr,thre=0.75,ra=15):\n",
    "        light_on = []\n",
    "        light_off = []\n",
    "        if arr[0] == 1.0:\n",
    "            light_on.append(0)\n",
    "        for i in range(arr.size-1):\n",
    "            if arr[i] == 1.0 and arr[i+1]==-1.0:\n",
    "                if np.mean(arr[max(i-ra,0):i])>thre and np.mean(arr[i:min(i+ra,arr.size)])<-thre:\n",
    "                    light_off.append(i)\n",
    "            elif arr[i] == -1.0 and arr[i+1]==1.0:\n",
    "                if np.mean(arr[max(i-ra,0):i])<-thre and np.mean(arr[i:min(i+ra,arr.size)])>thre:\n",
    "                    light_on.append(i)\n",
    "        if arr[-1] == 1.0:\n",
    "            light_off.append(i)\n",
    "        return(light_on,light_off)"
   ]
  },
  {
   "cell_type": "code",
   "execution_count": 45,
   "metadata": {},
   "outputs": [],
   "source": [
    "def get_opto(opto_file_path):\n",
    "    opto = []\n",
    "    threshold = float(opto_file_path.split('-')[-1][:-4])\n",
    "    with open(opto_file_path) as csv_file:\n",
    "        spamreader = csv.reader(csv_file, delimiter=\",\")\n",
    "        for line in spamreader:\n",
    "            opto.append(line)\n",
    "    data_o = np.array(opto[1:]).astype(float)\n",
    "    print(threshold)\n",
    "    data_o_normalized = np.sign(data_o[:,1]-float(threshold))\n",
    "    light_on, light_off = find_boundarys(data_o_normalized)\n",
    "    return(light_on, light_off)"
   ]
  },
  {
   "cell_type": "code",
   "execution_count": 64,
   "metadata": {},
   "outputs": [
    {
     "name": "stdout",
     "output_type": "stream",
     "text": [
      "600.0\n",
      "550.0\n",
      "600.0\n",
      "700.0\n",
      "500.0\n",
      "600.0\n",
      "500.0\n",
      "600.0\n"
     ]
    },
    {
     "name": "stderr",
     "output_type": "stream",
     "text": [
      "/home/yingtao/anaconda3/envs/caiman/lib/python3.7/site-packages/numpy/core/fromnumeric.py:3257: RuntimeWarning: Mean of empty slice.\n",
      "  out=out, **kwargs)\n",
      "/home/yingtao/anaconda3/envs/caiman/lib/python3.7/site-packages/numpy/core/_methods.py:161: RuntimeWarning: invalid value encountered in double_scalars\n",
      "  ret = ret.dtype.type(ret / rcount)\n"
     ]
    }
   ],
   "source": [
    "optos= [get_opto(os.path.join(folder_path,i)) for i in opto_files_paths]"
   ]
  },
  {
   "cell_type": "code",
   "execution_count": 66,
   "metadata": {},
   "outputs": [],
   "source": [
    "optos = [([111, 514, 912, 1311, 1709, 2107, 2505],\n",
    "  [310, 713, 1111, 1510, 1908, 2306, 2704]),\n",
    " ([190, 608, 1006, 1404, 2201, 2599, 2997, 3396],\n",
    "  [389, 807, 1205, 1603, 2002, 2400, 2798, 3196, 3595]),\n",
    " ([40, 436, 834, 1232, 1630, 2029, 2427, 2825],\n",
    "  [236, 635, 1033, 1431, 1829, 2227, 2626, 3024]),\n",
    " ([166, 565, 963, 1361, 1759, 2158], [366, 764, 1162, 1560, 1958, 2283]),\n",
    " ([234, 636, 1035, 1433, 1831], [433, 835, 1234, 1632, 1998]),\n",
    " ([23, 436, 835, 1233, 1631, 2029, 2428, 2826, 3224],\n",
    "  [223, 636, 1034, 1432, 1830, 2228, 2627, 3025, 3423]),\n",
    " ([163, 388, 645, 1047, 1445, 1844, 2242, 2635, 3033],\n",
    "  [362, 427, 844, 1246, 1645, 2043, 2441, 2834,3232]),\n",
    " ([113, 519, 917, 1315, 1714, 2112, 2510, 2908],\n",
    "  [312, 718, 1116, 1514, 1912, 2311, 2709, 3107])]"
   ]
  },
  {
   "cell_type": "code",
   "execution_count": 65,
   "metadata": {},
   "outputs": [
    {
     "data": {
      "text/plain": [
       "[([111, 514, 912, 1311, 1709, 2107, 2505],\n",
       "  [310, 713, 1111, 1510, 1908, 2306, 2704]),\n",
       " ([190, 608, 1006, 1404, 2201, 2599, 2997, 3396],\n",
       "  [389, 807, 1205, 1603, 2002, 2400, 2798, 3196, 3595]),\n",
       " ([40, 436, 834, 1232, 1630, 2029, 2427, 2825],\n",
       "  [236, 635, 1033, 1431, 1829, 2227, 2626, 3024]),\n",
       " ([166, 565, 963, 1361, 1759, 2158], [366, 764, 1162, 1560, 1958, 2283]),\n",
       " ([234, 636, 1035, 1433, 1831], [433, 835, 1234, 1632, 1998]),\n",
       " ([23, 436, 835, 1233, 1631, 2029, 2428, 2826, 3224],\n",
       "  [223, 636, 1034, 1432, 1830, 2228, 2627, 3025, 3423]),\n",
       " ([163, 388, 645, 1047, 1445, 1844, 2242, 2635, 3033],\n",
       "  [362, 427, 844, 1246, 1645, 2043, 2441, 2834]),\n",
       " ([0, 113, 519, 917, 1315, 1714, 2112, 2510, 2908],\n",
       "  [312, 718, 1116, 1514, 1912, 2311, 2709, 3107])]"
      ]
     },
     "execution_count": 65,
     "metadata": {},
     "output_type": "execute_result"
    }
   ],
   "source": [
    "optos"
   ]
  },
  {
   "cell_type": "code",
   "execution_count": null,
   "metadata": {},
   "outputs": [],
   "source": []
  }
 ],
 "metadata": {
  "kernelspec": {
   "display_name": "Python 3",
   "language": "python",
   "name": "python3"
  },
  "language_info": {
   "codemirror_mode": {
    "name": "ipython",
    "version": 3
   },
   "file_extension": ".py",
   "mimetype": "text/x-python",
   "name": "python",
   "nbconvert_exporter": "python",
   "pygments_lexer": "ipython3",
   "version": "3.7.1"
  }
 },
 "nbformat": 4,
 "nbformat_minor": 4
}
